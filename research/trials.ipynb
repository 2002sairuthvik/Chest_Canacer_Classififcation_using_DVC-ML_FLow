{
 "cells": [
  {
   "cell_type": "code",
   "execution_count": 2,
   "id": "3c8ce0d5",
   "metadata": {},
   "outputs": [],
   "source": [
    "# Download from Google Drive"
   ]
  },
  {
   "cell_type": "code",
   "execution_count": 3,
   "id": "6404297d",
   "metadata": {},
   "outputs": [],
   "source": [
    "import gdown"
   ]
  },
  {
   "cell_type": "code",
   "execution_count": 4,
   "id": "b8d747b5",
   "metadata": {},
   "outputs": [],
   "source": [
    "url = \"https://drive.google.com/file/d/1vW8_z4m8sPEzWK-uWo4NTfOsVAGNzstQ/view?usp=drive_link\""
   ]
  },
  {
   "cell_type": "code",
   "execution_count": 8,
   "id": "f081888b",
   "metadata": {},
   "outputs": [
    {
     "data": {
      "text/plain": [
       "'1vW8_z4m8sPEzWK-uWo4NTfOsVAGNzstQ'"
      ]
     },
     "execution_count": 8,
     "metadata": {},
     "output_type": "execute_result"
    }
   ],
   "source": [
    "file_id = url.split(\"/\")[-2]\n",
    "file_id"
   ]
  },
  {
   "cell_type": "code",
   "execution_count": 12,
   "id": "f0e53b84",
   "metadata": {},
   "outputs": [
    {
     "name": "stderr",
     "output_type": "stream",
     "text": [
      "Downloading...\n",
      "From (original): https://drive.google.com/uc?export=download&id=1vW8_z4m8sPEzWK-uWo4NTfOsVAGNzstQ\n",
      "From (redirected): https://drive.google.com/uc?export=download&id=1vW8_z4m8sPEzWK-uWo4NTfOsVAGNzstQ&confirm=t&uuid=4716f09e-c5d9-4c3f-be8d-a670e5b638f1\n",
      "To: c:\\Users\\manik\\Downloads\\Chest_Canacer_Classififcation_using_DVC-ML_FLow\\research\\Chest-CT-Scan-data.zip\n",
      "100%|██████████| 49.0M/49.0M [00:01<00:00, 31.9MB/s]\n"
     ]
    },
    {
     "data": {
      "text/plain": [
       "'Chest-CT-Scan-data.zip'"
      ]
     },
     "execution_count": 12,
     "metadata": {},
     "output_type": "execute_result"
    }
   ],
   "source": [
    "prefix = \"https://drive.google.com/uc?export=download&id=\"\n",
    "gdown.download(prefix + file_id, \"Chest-CT-Scan-data.zip\")"
   ]
  },
  {
   "cell_type": "code",
   "execution_count": null,
   "id": "a20134b2",
   "metadata": {},
   "outputs": [],
   "source": []
  }
 ],
 "metadata": {
  "kernelspec": {
   "display_name": "chestcancer",
   "language": "python",
   "name": "python3"
  },
  "language_info": {
   "codemirror_mode": {
    "name": "ipython",
    "version": 3
   },
   "file_extension": ".py",
   "mimetype": "text/x-python",
   "name": "python",
   "nbconvert_exporter": "python",
   "pygments_lexer": "ipython3",
   "version": "3.11.13"
  }
 },
 "nbformat": 4,
 "nbformat_minor": 5
}
